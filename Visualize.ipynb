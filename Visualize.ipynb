{
 "metadata": {
  "name": ""
 },
 "nbformat": 3,
 "nbformat_minor": 0,
 "worksheets": [
  {
   "cells": [
    {
     "cell_type": "markdown",
     "metadata": {},
     "source": [
      "### Setup"
     ]
    },
    {
     "cell_type": "code",
     "collapsed": false,
     "input": [
      "%pylab inline"
     ],
     "language": "python",
     "metadata": {},
     "outputs": []
    },
    {
     "cell_type": "code",
     "collapsed": false,
     "input": [
      "!pip3 install brewer2mpl"
     ],
     "language": "python",
     "metadata": {},
     "outputs": []
    },
    {
     "cell_type": "code",
     "collapsed": false,
     "input": [
      "import pandas"
     ],
     "language": "python",
     "metadata": {},
     "outputs": []
    },
    {
     "cell_type": "code",
     "collapsed": false,
     "input": [
      "import brewer2mpl\n",
      "brewer_colors = brewer2mpl.get_map('Pastel1', 'Qualitative', 7).mpl_colors"
     ],
     "language": "python",
     "metadata": {},
     "outputs": []
    },
    {
     "cell_type": "markdown",
     "metadata": {},
     "source": [
      "### Input"
     ]
    },
    {
     "cell_type": "code",
     "collapsed": false,
     "input": [
      "log = pandas.read_csv('.tasks-log.csv', sep=';', parse_dates=[4], index_col='start')"
     ],
     "language": "python",
     "metadata": {},
     "outputs": []
    },
    {
     "cell_type": "markdown",
     "metadata": {},
     "source": [
      "### All time totals"
     ]
    },
    {
     "cell_type": "code",
     "collapsed": false,
     "input": [
      "grp = log.groupby('project').sum().duration"
     ],
     "language": "python",
     "metadata": {},
     "outputs": []
    },
    {
     "cell_type": "code",
     "collapsed": false,
     "input": [
      "pie(grp, labels=grp.index, autopct='%1.1f%%', colors=brewer_colors, )\n",
      "plt.axis('equal')"
     ],
     "language": "python",
     "metadata": {},
     "outputs": []
    },
    {
     "cell_type": "code",
     "collapsed": false,
     "input": [
      "grouper = pandas.TimeGrouper('1D')"
     ],
     "language": "python",
     "metadata": {},
     "outputs": []
    },
    {
     "cell_type": "markdown",
     "metadata": {},
     "source": [
      "### Per-day plot"
     ]
    },
    {
     "cell_type": "code",
     "collapsed": false,
     "input": [
      "grp = log.groupby([lambda x: x.date, 'project']).sum()"
     ],
     "language": "python",
     "metadata": {},
     "outputs": []
    },
    {
     "cell_type": "code",
     "collapsed": false,
     "input": [
      "projects = log.project.unique()\n",
      "def make_index(days = 7):\n",
      "    global dates\n",
      "    dates = [datetime.date.today()-\n",
      "            datetime.timedelta(days=x)\n",
      "            for x in range(days)\n",
      "            ]\n",
      "    return[[date, project]\n",
      "           for project in projects\n",
      "           for date in dates\n",
      "           ]\n",
      "index_frame = pandas.DataFrame(make_index())\n",
      "index_frame.columns = ['start', 'project']\n",
      "index_frame.set_index(['start', 'project'], inplace=True)"
     ],
     "language": "python",
     "metadata": {},
     "outputs": []
    },
    {
     "cell_type": "code",
     "collapsed": false,
     "input": [
      "grp = grp.reindex_axis(index_frame.index, copy=False)\n",
      "grp.fillna(0, inplace=True)"
     ],
     "language": "python",
     "metadata": {},
     "outputs": []
    },
    {
     "cell_type": "code",
     "collapsed": false,
     "input": [
      "xax = plt.axes().xaxis\n",
      "offset = zeros_like(dates)\n",
      "for index, project in enumerate(projects):\n",
      "    single = grp.xs(project, level='project').duration\n",
      "    single /= 60\n",
      "    bar(single.index, single, \n",
      "        color=[brewer_colors[index]],\n",
      "        label=project,\n",
      "        bottom=offset,\n",
      "        align='center')\n",
      "    offset += single\n",
      "legend(loc='best')\n",
      "ylabel('minutes')\n",
      "xlabel('date')\n",
      "xax.set_ticks(dates)\n",
      "xax.set_ticklabels([date.strftime(\"%m-%d\") \n",
      "                    for date in dates])\n",
      "for tl in xax.get_ticklabels():\n",
      "      tl.set_fontsize(10)\n",
      "      tl.set_rotation(30)\n",
      "show()"
     ],
     "language": "python",
     "metadata": {},
     "outputs": []
    },
    {
     "cell_type": "code",
     "collapsed": false,
     "input": [],
     "language": "python",
     "metadata": {},
     "outputs": []
    }
   ],
   "metadata": {}
  }
 ]
}